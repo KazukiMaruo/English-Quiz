{
  "nbformat": 4,
  "nbformat_minor": 0,
  "metadata": {
    "colab": {
      "provenance": [],
      "authorship_tag": "ABX9TyPXfTI7aLknfeBu9BM7qzue",
      "include_colab_link": true
    },
    "kernelspec": {
      "name": "python3",
      "display_name": "Python 3"
    },
    "language_info": {
      "name": "python"
    }
  },
  "cells": [
    {
      "cell_type": "markdown",
      "metadata": {
        "id": "view-in-github",
        "colab_type": "text"
      },
      "source": [
        "<a href=\"https://colab.research.google.com/github/KazukiMaruo/English-Quiz/blob/main/English_vocabulary_list.ipynb\" target=\"_parent\"><img src=\"https://colab.research.google.com/assets/colab-badge.svg\" alt=\"Open In Colab\"/></a>"
      ]
    },
    {
      "cell_type": "code",
      "execution_count": null,
      "metadata": {
        "id": "Bt8NUGWNi_x0"
      },
      "outputs": [],
      "source": [
        "import random\n",
        "import pandas as pd"
      ]
    },
    {
      "cell_type": "code",
      "source": [
        "from google.colab import drive\n",
        "drive.mount('/content/drive')"
      ],
      "metadata": {
        "colab": {
          "base_uri": "https://localhost:8080/"
        },
        "id": "nCsSRBOpjYKt",
        "outputId": "6ae95a65-869f-4c0a-efcc-8061aed2b3e0"
      },
      "execution_count": null,
      "outputs": [
        {
          "output_type": "stream",
          "name": "stdout",
          "text": [
            "Mounted at /content/drive\n"
          ]
        }
      ]
    },
    {
      "cell_type": "code",
      "source": [
        "import gspread\n",
        "from oauth2client.service_account import ServiceAccountCredentials\n",
        "\n",
        "scope = ['https://spreadsheets.google.com/feeds','https://www.googleapis.com/auth/drive']\n",
        "\n",
        "#ダウンロードしたjsonファイルをドライブにアップデートした際のパス\n",
        "json = '/content/drive/MyDrive/english-voca-378420-8764ce1e54f9.json'\n",
        "credentials = ServiceAccountCredentials.from_json_keyfile_name(json, scope)\n",
        "gc = gspread.authorize(credentials)\n",
        "\n",
        "#書き込み先のスプレッドシートキーを追加\n",
        "SPREADSHEET_KEY = '1RgmtZbTZDbfsx9bQ-eGrGZ1POXknsREP8krgbZ5GPd8'\n"
      ],
      "metadata": {
        "id": "9MwUfq-yqJpB"
      },
      "execution_count": null,
      "outputs": []
    },
    {
      "cell_type": "code",
      "source": [
        "#creating new sheet\n",
        "workbook = gc.open_by_key(SPREADSHEET_KEY)\n",
        "from gspread_dataframe import set_with_dataframe\n",
        "\n",
        "#The title and the number of row and columns\n",
        "#workbook.add_worksheet(title='voca4', rows=50, cols=30)\n",
        "\n",
        "#setting worksheet\n",
        "worksheet = workbook.worksheet('voca4')"
      ],
      "metadata": {
        "id": "gFC6dYD46jia"
      },
      "execution_count": null,
      "outputs": []
    },
    {
      "cell_type": "code",
      "source": [
        "#Skipped Alphabet to create blank columns\n",
        "import string\n",
        "\n",
        "s = string.ascii_uppercase\n",
        "snew=[]\n",
        "\n",
        "for i in range(0,len(s),2):\n",
        "  snew.append(s[i])\n",
        "\n",
        "print(snew)\n",
        "\n",
        "s = [[1],[2],[3]]"
      ],
      "metadata": {
        "colab": {
          "base_uri": "https://localhost:8080/",
          "height": 133
        },
        "id": "8PnbuRtoDC0Q",
        "outputId": "dffbb7a0-74d8-4372-ff56-ad55d17163e4"
      },
      "execution_count": null,
      "outputs": [
        {
          "output_type": "error",
          "ename": "SyntaxError",
          "evalue": "ignored",
          "traceback": [
            "\u001b[0;36m  File \u001b[0;32m\"<ipython-input-18-56b02056176e>\"\u001b[0;36m, line \u001b[0;32m15\u001b[0m\n\u001b[0;31m    z = [x] for x in randomlist\u001b[0m\n\u001b[0m            ^\u001b[0m\n\u001b[0;31mSyntaxError\u001b[0m\u001b[0;31m:\u001b[0m invalid syntax\n"
          ]
        }
      ]
    },
    {
      "cell_type": "code",
      "source": [
        "#generate random numbers with skipped alphabet to create blank\n",
        "\n",
        "for c in snew:\n",
        "  randomlist = []\n",
        "  #Generate 10 random numbers between 1 and 2861 in the row(2)\n",
        "  randomlist = random.sample(range(1, 2862), 10)\n",
        "  worksheet.update(f'{c}2',[[x] for x in randomlist])\n",
        "\n",
        "for c in snew:\n",
        "  randomlist = []\n",
        "  #Generate 10 random numbers between 1 and 2861 in the row(14)\n",
        "  randomlist = random.sample(range(1, 2862), 10)\n",
        "  worksheet.update(f'{c}14',[[x] for x in randomlist])\n",
        "\n",
        "for c in snew:\n",
        "  randomlist = []\n",
        "  #Generate 10 random numbers between 1 and 2861 in the row(26)\n",
        "  randomlist = random.sample(range(1, 2862), 10)\n",
        "  worksheet.update(f'{c}26',[[x] for x in randomlist])"
      ],
      "metadata": {
        "id": "C9GQXsnaCfUb"
      },
      "execution_count": null,
      "outputs": []
    },
    {
      "cell_type": "code",
      "source": [
        "#generate random numbers with normal alphabet\n",
        "\n",
        "for c in s:\n",
        "  randomlist = []\n",
        "  #Generate 10 random numbers between 1 and 2861 in the row(2)\n",
        "  randomlist = random.sample(range(1, 2862), 10)\n",
        "  worksheet.update(f'{c}2',[[x] for x in randomlist])\n",
        "\n",
        "for c in s:\n",
        "  randomlist = []\n",
        "  #Generate 10 random numbers between 1 and 2861 in the row(14)\n",
        "  randomlist = random.sample(range(1, 2862), 10)\n",
        "  worksheet.update(f'{c}14',[[x] for x in randomlist])\n",
        "\n",
        "for c in s:\n",
        "  randomlist = []\n",
        "  #Generate 10 random numbers between 1 and 2861 in the row(26)\n",
        "  randomlist = random.sample(range(1, 2862), 10)\n",
        "  worksheet.update(f'{c}26',[[x] for x in randomlist])"
      ],
      "metadata": {
        "id": "Uq2Bn4hMIKm8"
      },
      "execution_count": null,
      "outputs": []
    }
  ]
}